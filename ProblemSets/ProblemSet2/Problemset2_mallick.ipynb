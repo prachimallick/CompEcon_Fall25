{
 "cells": [
  {
   "cell_type": "markdown",
   "id": "7ed2a0ab",
   "metadata": {},
   "source": [
    "### Problem Set 2\n",
    "#### Question 1\n",
    "\n"
   ]
  },
  {
   "cell_type": "markdown",
   "id": "d13be5f9",
   "metadata": {},
   "source": [
    "Problem 1"
   ]
  },
  {
   "cell_type": "code",
   "execution_count": 1,
   "id": "ae035f8e",
   "metadata": {},
   "outputs": [
    {
     "name": "stdout",
     "output_type": "stream",
     "text": [
      "(1, 9, 4.4)\n"
     ]
    }
   ],
   "source": [
    "L=[2,7,9,3,1]\n",
    "def stats(L):\n",
    "    return min(L), max(L), sum(L)/len(L)\n",
    "print(stats(L))"
   ]
  },
  {
   "cell_type": "markdown",
   "id": "21121ef5",
   "metadata": {},
   "source": [
    "Problem 2"
   ]
  },
  {
   "cell_type": "code",
   "execution_count": 4,
   "id": "2d9a8308",
   "metadata": {},
   "outputs": [
    {
     "name": "stdout",
     "output_type": "stream",
     "text": [
      "5 6\n",
      "hello hello world\n",
      "[1, 2, 3, 4] [1, 2, 3, 4]\n",
      "(1, 2, 3) (1, 2, 3, 4)\n",
      "{1, 2, 3, 4} {1, 2, 3, 4}\n",
      "\n",
      "Conclusion:\n",
      "Immutable types → int, str, tuple\n",
      "Mutable types   → list, set\n",
      "\n"
     ]
    }
   ],
   "source": [
    "# int (immutable)\n",
    "a= 5\n",
    "b= a\n",
    "b += 1\n",
    "print(a,b)\n",
    "\n",
    "# str (immutable)\n",
    "s1 = \"hello\"\n",
    "s2 = s1\n",
    "s2 += \" world\"\n",
    "print(s1, s2)\n",
    "\n",
    "# list (mutable)\n",
    "L1 = [1, 2, 3]\n",
    "L2 = L1\n",
    "L2.append(4)\n",
    "print(L1, L2)\n",
    "\n",
    "# tuple (immutable)\n",
    "t1 = (1, 2, 3)\n",
    "t2 = t1\n",
    "t2 += (4,)\n",
    "print(t1, t2)  \n",
    "\n",
    "# set (mutable)\n",
    "s1 = {1, 2, 3}\n",
    "s2 = s1\n",
    "s2.add(4)\n",
    "print(s1, s2) \n",
    "\n",
    "print(\"\"\"\n",
    "Conclusion:\n",
    "Immutable types → int, str, tuple\n",
    "Mutable types   → list, set\n",
    "\"\"\")\n"
   ]
  },
  {
   "cell_type": "markdown",
   "id": "56d75483",
   "metadata": {},
   "source": [
    "Problem 3\n",
    "Solution is provided in `calculator.py` and `solution.py`.\n"
   ]
  },
  {
   "cell_type": "markdown",
   "id": "55cde5f6",
   "metadata": {},
   "source": [
    "#### Question 2"
   ]
  },
  {
   "cell_type": "markdown",
   "id": "660d657b",
   "metadata": {},
   "source": [
    "Problem 1\n"
   ]
  },
  {
   "cell_type": "code",
   "execution_count": 8,
   "id": "430ee4f9",
   "metadata": {},
   "outputs": [
    {
     "name": "stdout",
     "output_type": "stream",
     "text": [
      "[[ 37  14 -32 -10]\n",
      " [-54  -7  58  65]]\n"
     ]
    }
   ],
   "source": [
    "import numpy as np\n",
    "def matrix_product():\n",
    "    A = np.array([[3,-1,4], [1,5,-9]])\n",
    "    B = np.array([[2,6,-5,3], [5,-8,9,7], [9,-3,-2,-3]])\n",
    "    return A @ B\n",
    "print(matrix_product())"
   ]
  },
  {
   "cell_type": "markdown",
   "id": "b96e66d0",
   "metadata": {},
   "source": [
    "Problem 2"
   ]
  },
  {
   "cell_type": "code",
   "execution_count": 10,
   "id": "35de4926",
   "metadata": {},
   "outputs": [
    {
     "name": "stdout",
     "output_type": "stream",
     "text": [
      "[[0 0 0]\n",
      " [0 0 0]\n",
      " [0 0 0]]\n"
     ]
    }
   ],
   "source": [
    "import numpy as np\n",
    "\n",
    "def cayley_hamilton():\n",
    "    # Define A properly\n",
    "    A = np.array([[3, 1, 4],\n",
    "                  [1, 5, 9],\n",
    "                  [-5, 3, 1]])\n",
    "    \n",
    "    # Matrix powers\n",
    "    A2 = A @ A        # A squared\n",
    "    A3 = A @ A @ A    # A cubed\n",
    "    \n",
    "    # Compute expression\n",
    "    result = -A3 + 9*A2 - 15*A\n",
    "    return result\n",
    "\n",
    "# Run and display result\n",
    "print(cayley_hamilton())\n",
    "\n"
   ]
  },
  {
   "cell_type": "markdown",
   "id": "516c79a0",
   "metadata": {},
   "source": [
    "Problem 5"
   ]
  },
  {
   "cell_type": "code",
   "execution_count": 11,
   "id": "0b346c82",
   "metadata": {},
   "outputs": [
    {
     "name": "stdout",
     "output_type": "stream",
     "text": [
      "[[ 0  0  0  0  1  1  0  0]\n",
      " [ 0  0  0  2  3  0  1  0]\n",
      " [ 0  0  0  4  5  0  0  1]\n",
      " [ 0  2  4  0  0  0  0  0]\n",
      " [ 1  3  5  0  0  0  0  0]\n",
      " [ 3  0  0  0  0 -2  0  0]\n",
      " [ 3  3  0  0  0  0 -2  0]\n",
      " [ 3  3  3  0  0  0  0 -2]]\n"
     ]
    }
   ],
   "source": [
    "import numpy as np\n",
    "\n",
    "def block_matrix():\n",
    "    # Define matrices\n",
    "    A = np.array([[0, 2, 4],\n",
    "                  [1, 3, 5]])\n",
    "    \n",
    "    B = np.array([[3, 0, 0],\n",
    "                  [3, 3, 0],\n",
    "                  [3, 3, 3]])\n",
    "    \n",
    "    C = np.array([[-2, 0, 0],\n",
    "                  [ 0, -2, 0],\n",
    "                  [ 0,  0, -2]])\n",
    "    \n",
    "    # Identity matrix\n",
    "    I = np.eye(3, dtype=int)\n",
    "    \n",
    "    # Zero blocks\n",
    "    Z22 = np.zeros((2,2), dtype=int)  # 2x2\n",
    "    Z23 = np.zeros((2,3), dtype=int)  # 2x3\n",
    "    Z32 = np.zeros((3,2), dtype=int)  # 3x2\n",
    "    Z33 = np.zeros((3,3), dtype=int)  # 3x3\n",
    "    \n",
    "    # Assemble block matrix using stacking\n",
    "    top    = np.hstack((Z33, A.T, I))\n",
    "    middle = np.hstack((A, Z22, Z23))\n",
    "    bottom = np.hstack((B, Z32, C))\n",
    "    \n",
    "    \n",
    "    result = np.vstack((top, middle, bottom))\n",
    "    return result\n",
    "\n",
    "print(block_matrix())\n"
   ]
  },
  {
   "cell_type": "markdown",
   "id": "fdd60140",
   "metadata": {},
   "source": [
    "#### Question 3"
   ]
  },
  {
   "cell_type": "markdown",
   "id": "290ce5f3",
   "metadata": {},
   "source": [
    "Problem 1"
   ]
  },
  {
   "cell_type": "code",
   "execution_count": 1,
   "id": "c0fb7344",
   "metadata": {},
   "outputs": [
    {
     "name": "stdout",
     "output_type": "stream",
     "text": [
      "No Room!\n",
      "Contents after adding items: ['pencil', 'pen', 'paper', 'computer', 'eraser']\n",
      "Contents after dump: []\n",
      "Contents after dump: []\n"
     ]
    }
   ],
   "source": [
    "\n",
    "class Backpack:\n",
    "    \"\"\"\n",
    "    A Backpack object class. Has a name, color, max_size, and a list of contents.\n",
    "    \n",
    "    Attributes:\n",
    "        name (str): the name of the backpack's owner.\n",
    "        color (str): the color of the backpack.\n",
    "        max_size (int): maximum number of items allowed in the backpack.\n",
    "        contents (list): the contents of the backpack.\n",
    "    \"\"\"\n",
    "\n",
    "    def __init__(self, name, color, max_size=5):\n",
    "        \"\"\"\n",
    "        Initialize a Backpack object with owner name, color, and maximum size.\n",
    "        \n",
    "        Parameters:\n",
    "            name (str): the name of the backpack's owner.\n",
    "            color (str): the color of the backpack.\n",
    "            max_size (int, optional): the maximum number of items the backpack can hold.\n",
    "                                      Defaults to 5.\n",
    "        \"\"\"\n",
    "        self.name = name\n",
    "        self.color = color\n",
    "        self.max_size = max_size\n",
    "        self.contents = []\n",
    "      \n",
    "\n",
    "    def put(self, item):\n",
    "        \"\"\"\n",
    "        Add 'item' to the backpack if there is room.\n",
    "        If the backpack already has max_size items, print \"No Room!\" instead.\n",
    "        \n",
    "        Parameters:\n",
    "            item (str): the item to add to the backpack.\n",
    "        \"\"\"\n",
    "        if len(self.contents) >= self.max_size:\n",
    "            print(\"No Room!\")\n",
    "        else:\n",
    "            self.contents.append(item)\n",
    "\n",
    "    def take(self, item):\n",
    "        \"\"\"\n",
    "        Remove 'item' from the backpack's list of contents.\n",
    "        \n",
    "        Parameters:\n",
    "            item (str): the item to remove from the backpack.\n",
    "        \"\"\"\n",
    "        self.contents.remove(item)\n",
    "    def dump(self):\n",
    "        \"\"\"\n",
    "        Empty the backpack's contents completely.\n",
    "        \"\"\"\n",
    "        self.contents = []\n",
    "\n",
    "\n",
    "# Test function\n",
    "def test_backpack():\n",
    "    testpack = Backpack(\"Barry\", \"black\")  # Instantiate the object.\n",
    "    \n",
    "    # Test attribute assignment\n",
    "    if testpack.name != \"Barry\":\n",
    "        print(\"Backpack.name assigned incorrectly\")\n",
    "    if testpack.color != \"black\":\n",
    "        print(\"Backpack.color assigned incorrectly\")\n",
    "    if testpack.max_size != 5:\n",
    "        print(\"Backpack.max_size assigned incorrectly\")\n",
    "\n",
    "    # Test methods\n",
    "    for item in [\"pencil\", \"pen\", \"paper\", \"computer\", \"eraser\", \"book\"]:\n",
    "        testpack.put(item)\n",
    "\n",
    "    print(\"Contents after adding items:\", testpack.contents)\n",
    "\n",
    "    # Test dump method\n",
    "    testpack.dump()\n",
    "    print(\"Contents after dump:\", testpack.contents)\n",
    "    print(\"Contents after dump:\", testpack.contents)\n",
    "    if testpack.contents != []:\n",
    "        print(\"Dump method failed!\")\n",
    "\n",
    "\n",
    "# Run test\n",
    "test_backpack()\n"
   ]
  },
  {
   "cell_type": "markdown",
   "id": "163fe946",
   "metadata": {},
   "source": [
    "Problem 2"
   ]
  },
  {
   "cell_type": "code",
   "execution_count": 3,
   "id": "76427b12",
   "metadata": {},
   "outputs": [
    {
     "name": "stdout",
     "output_type": "stream",
     "text": [
      "Owner: Hinata\n",
      "Color: Purple\n",
      "Max size: 2\n",
      "Initial fuel: 10\n",
      "Contents: []\n",
      "No Room!\n",
      "Contents after adding: ['wrench', 'medkit']\n",
      "Not enough fuel!\n",
      "Contents after dump: []\n",
      "Fuel after dump: 0\n"
     ]
    }
   ],
   "source": [
    "class Jetpack(Backpack):\n",
    "    \"\"\"\n",
    "    A Jetpack object class. Inherits from Backpack.\n",
    "    A jetpack is a special kind of backpack that also stores fuel.\n",
    "\n",
    "    Attributes:\n",
    "        name (str): the name of the jetpack's owner.\n",
    "        color (str): the color of the jetpack.\n",
    "        max_size (int): maximum number of items the jetpack can hold (default = 2).\n",
    "        contents (list): the contents of the jetpack.\n",
    "        fuel (int): the amount of fuel available (default = 10).\n",
    "    \"\"\"\n",
    "\n",
    "    def __init__(self, name, color, max_size=2, fuel=10):\n",
    "        \"\"\"\n",
    "        Parameters:\n",
    "            name (str): the name of the jetpack's owner.\n",
    "            color (str): the color of the jetpack.\n",
    "            max_size (int, optional): the maximum number of items allowed (default=2).\n",
    "            fuel (int, optional): the initial amount of fuel (default=10).\n",
    "        \"\"\"\n",
    "        # Call Backpack constructor for name, color, max_size\n",
    "        super().__init__(name, color, max_size)\n",
    "        self.fuel = fuel\n",
    "\n",
    "    def fly(self, fuel_burn):\n",
    "        \"\"\"\n",
    "        Burn the given amount of fuel from the jetpack.\n",
    "\n",
    "        Parameters:\n",
    "            fuel_burn (int): the amount of fuel to burn.\n",
    "\n",
    "        Behavior:\n",
    "            - If not enough fuel remains, print \"Not enough fuel!\"\n",
    "            - Otherwise, subtract fuel_burn from self.fuel.\n",
    "        \"\"\"\n",
    "        if fuel_burn > self.fuel:\n",
    "            print(\"Not enough fuel!\")\n",
    "        else:\n",
    "            self.fuel -= fuel_burn\n",
    "\n",
    "    def dump(self):\n",
    "        \"\"\"\n",
    "        Empty the jetpack completely:\n",
    "        - Removes all contents\n",
    "        - Empties the fuel tank\n",
    "        \"\"\"\n",
    "        super().dump()   # clear contents\n",
    "        self.fuel = 0\n",
    "\n",
    "\n",
    "# ✅ test function should NOT be indented under dump()\n",
    "def test_jetpack():\n",
    "    jet = Jetpack(\"Hinata\", \"Purple\")  # defaults: max_size=2, fuel=10\n",
    "    \n",
    "    # Test attributes\n",
    "    print(\"Owner:\", jet.name)\n",
    "    print(\"Color:\", jet.color)\n",
    "    print(\"Max size:\", jet.max_size)\n",
    "    print(\"Initial fuel:\", jet.fuel)\n",
    "    print(\"Contents:\", jet.contents)\n",
    "\n",
    "    # Test put (capacity check inherited from Backpack)\n",
    "    jet.put(\"wrench\")\n",
    "    jet.put(\"medkit\")\n",
    "    jet.put(\"extra battery\")  # should trigger \"No Room!\"\n",
    "    print(\"Contents after adding:\", jet.contents)\n",
    "\n",
    "    # Test fly\n",
    "    jet.fly(5)   # should succeed\n",
    "    jet.fly(10)  # should print \"Not enough fuel!\"\n",
    "\n",
    "    # Test dump\n",
    "    jet.dump()\n",
    "    print(\"Contents after dump:\", jet.contents)\n",
    "    print(\"Fuel after dump:\", jet.fuel)\n",
    "\n",
    "\n",
    "# Run the test\n",
    "test_jetpack()\n"
   ]
  },
  {
   "cell_type": "code",
   "execution_count": null,
   "id": "bd6d8163",
   "metadata": {},
   "outputs": [],
   "source": []
  }
 ],
 "metadata": {
  "kernelspec": {
   "display_name": "base",
   "language": "python",
   "name": "python3"
  },
  "language_info": {
   "codemirror_mode": {
    "name": "ipython",
    "version": 3
   },
   "file_extension": ".py",
   "mimetype": "text/x-python",
   "name": "python",
   "nbconvert_exporter": "python",
   "pygments_lexer": "ipython3",
   "version": "3.13.5"
  }
 },
 "nbformat": 4,
 "nbformat_minor": 5
}
