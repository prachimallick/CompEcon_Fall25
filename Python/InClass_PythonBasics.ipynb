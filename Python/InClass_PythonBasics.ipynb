{
 "cells": [
  {
   "cell_type": "markdown",
   "id": "78f37a83",
   "metadata": {},
   "source": [
    "# Introduction to Python\n",
    "\n",
    "Basics of the Python standard library and Numpy.\n",
    "\n",
    "## Standard Library data types:\n",
    "* Single values:\n",
    "  * Numeric (integers, floating point numbers)\n",
    "  * Boolean\n",
    "* Iterable objects:\n",
    "  * Strings\n",
    "  * Lists\n",
    "  * Sets\n",
    "  * Tuples\n",
    "  * Dictionaries\n",
    "  * Ranges\n",
    "\n",
    "### Numeric data types\n",
    "\n",
    "Numeric values can take on integer (int) or floating point (float) types.  Python will infer the specific type based on the value assigned. For example:"
   ]
  },
  {
   "cell_type": "code",
   "execution_count": null,
   "id": "5d12f47f",
   "metadata": {},
   "outputs": [],
   "source": [
    "#  Create a numeric object\n",
    "three = 3\n",
    "print(\"The type of three is: \", type(three))"
   ]
  },
  {
   "cell_type": "code",
   "execution_count": null,
   "id": "4dae7097",
   "metadata": {},
   "outputs": [
    {
     "data": {
      "text/plain": [
       "6"
      ]
     },
     "execution_count": 4,
     "metadata": {},
     "output_type": "execute_result"
    }
   ],
   "source": [
    "# Basic math operations are part of the standard library\n",
    "two = 2\n",
    "three * two"
   ]
  },
  {
   "cell_type": "markdown",
   "id": "ad1027b8",
   "metadata": {},
   "source": [
    "### Booleans\n",
    "\n",
    "Booleans are True/False values.  They are often used in conditional statements and loops.  You can do math with boolean values, with `True` being treated as `1` and `False` as `0`. For example:"
   ]
  },
  {
   "cell_type": "code",
   "execution_count": 65,
   "id": "2558d2c7",
   "metadata": {},
   "outputs": [
    {
     "name": "stdout",
     "output_type": "stream",
     "text": [
      "The object `is_true` is of type:  <class 'bool'>\n",
      "The object `is_false` is of type:  <class 'bool'>\n"
     ]
    }
   ],
   "source": [
    "# Booleans\n",
    "is_true = True\n",
    "is_false = False\n",
    "print(\"The object `is_true` is of type: \", type(is_true))\n",
    "print(\"The object `is_false` is of type: \", type(is_false))"
   ]
  },
  {
   "cell_type": "code",
   "execution_count": 8,
   "id": "d3eb694a",
   "metadata": {},
   "outputs": [
    {
     "data": {
      "text/plain": [
       "0"
      ]
     },
     "execution_count": 8,
     "metadata": {},
     "output_type": "execute_result"
    }
   ],
   "source": [
    "# math with booleans\n",
    "2 * is_false"
   ]
  },
  {
   "cell_type": "markdown",
   "id": "519872cf",
   "metadata": {},
   "source": [
    "## \"Iterables\"\n",
    "\n",
    "Iterables are Python objects with multiple values, you can iterate over the elements in an iterable (hence the name).  You can also usually reference a specific value in the iterable.\n",
    "\n",
    "### Strings\n",
    "\n",
    "Strings are sequences of characters, you can iterate over each character in a string."
   ]
  },
  {
   "cell_type": "code",
   "execution_count": 66,
   "id": "cd18ae12",
   "metadata": {},
   "outputs": [
    {
     "name": "stdout",
     "output_type": "stream",
     "text": [
      "The type of name is:  <class 'str'>\n",
      "The first letter of name is:  J\n"
     ]
    }
   ],
   "source": [
    "# Example of a name\n",
    "name = \"John\"\n",
    "print(\"The type of name is: \", type(name))\n",
    "print(\"The first letter of name is: \", name[0])"
   ]
  },
  {
   "cell_type": "code",
   "execution_count": null,
   "id": "9a05ad13",
   "metadata": {},
   "outputs": [
    {
     "name": "stdout",
     "output_type": "stream",
     "text": [
      "J\n",
      "the type of the object is  <class 'str'>\n",
      "o\n",
      "the type of the object is  <class 'str'>\n",
      "h\n",
      "the type of the object is  <class 'str'>\n",
      "n\n",
      "the type of the object is  <class 'str'>\n"
     ]
    }
   ],
   "source": [
    "# the for/in syntax can be used to iterate over the elements in an iterable\n",
    "for letter in name:\n",
    "    print(letter)\n",
    "# Note that the print command below is only printed once,\n",
    "# since it's not indented under the for loop (try indenting and see what happens)\n",
    "print(\"the type of the object is \", type(name))"
   ]
  },
  {
   "cell_type": "markdown",
   "id": "af2e32ba",
   "metadata": {},
   "source": [
    "### Lists\n",
    "\n",
    "Lists are containers of objects.  The objects can be of mixed types.  Lists are \"mutable\" (i.e., they can be altered after created). Lists are defined with square brackets `[]`."
   ]
  },
  {
   "cell_type": "code",
   "execution_count": null,
   "id": "b206f066",
   "metadata": {},
   "outputs": [
    {
     "name": "stdout",
     "output_type": "stream",
     "text": [
      "['Ayse', 3, True, ['Hello', 'Goodbye']]\n"
     ]
    }
   ],
   "source": [
    "our_list = [\"Ayse\", 3, True, list((\"Hello\", \"Goodbye\"))]\n",
    "print(\"The type of our_list is: \", type(our_list))\n",
    "print(our_list)"
   ]
  },
  {
   "cell_type": "code",
   "execution_count": null,
   "id": "ee31ee2f",
   "metadata": {},
   "outputs": [
    {
     "data": {
      "text/plain": [
       "True"
      ]
     },
     "execution_count": 21,
     "metadata": {},
     "output_type": "execute_result"
    }
   ],
   "source": [
    "# Values in a list can be referenced by their index\n",
    "# REMEMBER: Python uses 0-indexing, so the first value is at index 0\n",
    "our_list[2] # 3rd value"
   ]
  },
  {
   "cell_type": "code",
   "execution_count": null,
   "id": "713e110e",
   "metadata": {},
   "outputs": [
    {
     "name": "stdout",
     "output_type": "stream",
     "text": [
      "['Ayse', 3, False, ['Hello', 'Goodbye']]\n"
     ]
    }
   ],
   "source": [
    "# Lists are mutable, meaning we can modify an element in a list\n",
    "# Here we change the 3rd element (index 2) from True to False\n",
    "our_list[2] = False\n",
    "print(our_list)"
   ]
  },
  {
   "cell_type": "markdown",
   "id": "c4151dac",
   "metadata": {},
   "source": [
    "### Sets\n",
    "\n",
    "Sets are unordered collections of unique elements. They are useful when you want to store multiple items without duplicates.  Sets are defined using curly braces `{}`."
   ]
  },
  {
   "cell_type": "code",
   "execution_count": null,
   "id": "ac698483",
   "metadata": {},
   "outputs": [
    {
     "name": "stdout",
     "output_type": "stream",
     "text": [
      "What type is our_set?  <class 'set'>\n",
      "{'one', '1', 2.2, 1}\n"
     ]
    }
   ],
   "source": [
    "our_set = {\"1\", 1, \"one\", 1, 2.2}\n",
    "print(\"What type is our_set? \", type(our_set))\n",
    "print(our_set)  # Note how the duplicate 1 (integer)is not included"
   ]
  },
  {
   "cell_type": "code",
   "execution_count": null,
   "id": "39b0a9fc",
   "metadata": {},
   "outputs": [
    {
     "name": "stdout",
     "output_type": "stream",
     "text": [
      "one\n",
      "1\n",
      "2.2\n",
      "1\n"
     ]
    }
   ],
   "source": [
    "# We can iterate over a set\n",
    "for item in our_set:\n",
    "    print(item)"
   ]
  },
  {
   "cell_type": "code",
   "execution_count": 69,
   "id": "dd75b0ad",
   "metadata": {},
   "outputs": [
    {
     "ename": "TypeError",
     "evalue": "'set' object is not subscriptable",
     "output_type": "error",
     "traceback": [
      "\u001b[0;31m---------------------------------------------------------------------------\u001b[0m",
      "\u001b[0;31mTypeError\u001b[0m                                 Traceback (most recent call last)",
      "Cell \u001b[0;32mIn[69], line 2\u001b[0m\n\u001b[1;32m      1\u001b[0m \u001b[38;5;66;03m# We cannot reference an element of a set by index\u001b[39;00m\n\u001b[0;32m----> 2\u001b[0m our_set[\u001b[38;5;241m0\u001b[39m]\n",
      "\u001b[0;31mTypeError\u001b[0m: 'set' object is not subscriptable"
     ]
    }
   ],
   "source": [
    "# We cannot reference an element of a set by index\n",
    "our_set[0]  # This will give an error"
   ]
  },
  {
   "cell_type": "markdown",
   "id": "a16012e5",
   "metadata": {},
   "source": [
    "### Tuples\n",
    "\n",
    "Tuples are similar to lists, but they are immutable (i.e., they cannot be changed after creation). Tuples are defined using parentheses.\n"
   ]
  },
  {
   "cell_type": "code",
   "execution_count": 70,
   "id": "4dc9b4fa",
   "metadata": {},
   "outputs": [
    {
     "name": "stdout",
     "output_type": "stream",
     "text": [
      "What type is our_tuple?  <class 'tuple'>\n",
      "('Ayse', 3, True, ['Hello', 'Goodbye'])\n"
     ]
    }
   ],
   "source": [
    "our_tuple = (\"Ayse\", 3, True, list((\"Hello\", \"Goodbye\")))\n",
    "print(\"What type is our_tuple? \", type(our_tuple))\n",
    "print(our_tuple)"
   ]
  },
  {
   "cell_type": "code",
   "execution_count": 71,
   "id": "7af6b060",
   "metadata": {},
   "outputs": [
    {
     "ename": "TypeError",
     "evalue": "'tuple' object does not support item assignment",
     "output_type": "error",
     "traceback": [
      "\u001b[0;31m---------------------------------------------------------------------------\u001b[0m",
      "\u001b[0;31mTypeError\u001b[0m                                 Traceback (most recent call last)",
      "Cell \u001b[0;32mIn[71], line 2\u001b[0m\n\u001b[1;32m      1\u001b[0m \u001b[38;5;66;03m# Since they are immutable, we can't change an element of a tuple\u001b[39;00m\n\u001b[0;32m----> 2\u001b[0m our_tuple[\u001b[38;5;241m2\u001b[39m] \u001b[38;5;241m=\u001b[39m \u001b[38;5;28;01mFalse\u001b[39;00m  \u001b[38;5;66;03m# This will give an error\u001b[39;00m\n\u001b[1;32m      3\u001b[0m \u001b[38;5;28mprint\u001b[39m(our_tuple)\n",
      "\u001b[0;31mTypeError\u001b[0m: 'tuple' object does not support item assignment"
     ]
    }
   ],
   "source": [
    "# Since they are immutable, we can't change an element of a tuple\n",
    "our_tuple[2] = False  # This will give an error\n",
    "print(our_tuple)"
   ]
  },
  {
   "cell_type": "markdown",
   "id": "1b6b06fb",
   "metadata": {},
   "source": [
    "### Dictionary\n",
    "\n",
    "Python dictionaries are mutable, unordered collections of key-value pairs. They are defined using curly braces, with keys and values separated by colons.\n",
    "\n",
    "Dictionaries are my favorite data structure because they allow for fast lookups and can be easily modified and can store highly complex data structures."
   ]
  },
  {
   "cell_type": "code",
   "execution_count": 72,
   "id": "89f011dd",
   "metadata": {},
   "outputs": [
    {
     "name": "stdout",
     "output_type": "stream",
     "text": [
      "What type is USC_football?  <class 'dict'>\n",
      "{'year': [2022, 2023, 2024], 'wins': [8, 5, 9]}\n"
     ]
    }
   ],
   "source": [
    "USC_football = {\n",
    "    \"year\": [2022, 2023, 2024],\n",
    "    \"wins\": [8, 5, 9]\n",
    "}\n",
    "print(\"What type is USC_football? \", type(USC_football))\n",
    "print(USC_football)"
   ]
  },
  {
   "cell_type": "code",
   "execution_count": 73,
   "id": "39fe6b02",
   "metadata": {},
   "outputs": [
    {
     "data": {
      "text/plain": [
       "5"
      ]
     },
     "execution_count": 73,
     "metadata": {},
     "output_type": "execute_result"
    }
   ],
   "source": [
    "# We can reference an element of a dictionary with its keyword\n",
    "# Here we will reference the list of wins and pull the 2nd element\n",
    "USC_football[\"wins\"][1]  # Wins in 2023"
   ]
  },
  {
   "cell_type": "markdown",
   "id": "9a3fec4e",
   "metadata": {},
   "source": [
    "# Range\n",
    "\n",
    "A range object is a series of numbers that can be used in for loops or to create lists. It is defined using the `range()` function."
   ]
  },
  {
   "cell_type": "code",
   "execution_count": 42,
   "id": "ab4446c1",
   "metadata": {},
   "outputs": [
    {
     "name": "stdout",
     "output_type": "stream",
     "text": [
      "What type is a_range?  <class 'range'>\n",
      "range(0, 5)\n"
     ]
    }
   ],
   "source": [
    "a_range = range(5)\n",
    "print(\"What type is a_range? \", type(a_range))\n",
    "print(a_range)"
   ]
  },
  {
   "cell_type": "markdown",
   "id": "3504e53e",
   "metadata": {},
   "source": [
    "### Math with iterables\n",
    "\n",
    "You can do math with the standard library objects, but you don't always get what you expect."
   ]
  },
  {
   "cell_type": "code",
   "execution_count": null,
   "id": "26c4ca6b",
   "metadata": {},
   "outputs": [
    {
     "data": {
      "text/plain": [
       "'JohnJohn'"
      ]
     },
     "execution_count": 45,
     "metadata": {},
     "output_type": "execute_result"
    }
   ],
   "source": [
    "# \"Multiplying\" a string repeats it\n",
    "name * 2"
   ]
  },
  {
   "cell_type": "code",
   "execution_count": 74,
   "id": "d52257ad",
   "metadata": {},
   "outputs": [
    {
     "data": {
      "text/plain": [
       "[1, 2, 3, 1, 2, 3]"
      ]
     },
     "execution_count": 74,
     "metadata": {},
     "output_type": "execute_result"
    }
   ],
   "source": [
    "# The same is true of lists -- even if of all numbers\n",
    "numeric_list = [1, 2, 3]\n",
    "numeric_list * 2"
   ]
  },
  {
   "cell_type": "markdown",
   "id": "f6820637",
   "metadata": {},
   "source": [
    "If we want to do math on numeric_list, we need to use a loop or a list comprehension.\n",
    "e.g., :\n",
    "```python\n",
    "doubled_list = [x * 2 for x in numeric_list]\n",
    "```\n",
    "But we might also want to just use put the list into an object that more easily accomodates math operations, such as a NumPy array."
   ]
  },
  {
   "cell_type": "markdown",
   "id": "4df0f702",
   "metadata": {},
   "source": [
    "# The Numpy Library\n",
    "\n",
    "This is a powerful library for numerical computing in Python. It provides support for arrays, matrices, and a wide range of mathematical functions."
   ]
  },
  {
   "cell_type": "code",
   "execution_count": null,
   "id": "15874774",
   "metadata": {},
   "outputs": [],
   "source": [
    "# import the Numpy package and give it\n",
    "# the alias `np`\n",
    "import numpy as np"
   ]
  },
  {
   "cell_type": "code",
   "execution_count": null,
   "id": "ad3fa4ca",
   "metadata": {},
   "outputs": [
    {
     "name": "stdout",
     "output_type": "stream",
     "text": [
      "What type is our_array?  <class 'numpy.ndarray'>\n",
      "What is the shape of our_array?  (5,)\n",
      "[1 2 3 4 5]\n"
     ]
    }
   ],
   "source": [
    "# Create a numpy array with the np.array() function\n",
    "our_array = np.array([1, 2, 3, 4, 5])\n",
    "print(\"What type is our_array? \", type(our_array))\n",
    "print(\"What is the shape of our_array? \", our_array.shape)\n",
    "print(our_array)"
   ]
  },
  {
   "cell_type": "code",
   "execution_count": 75,
   "id": "4f44ee52",
   "metadata": {},
   "outputs": [
    {
     "data": {
      "text/plain": [
       "array([ 2,  4,  6,  8, 10])"
      ]
     },
     "execution_count": 75,
     "metadata": {},
     "output_type": "execute_result"
    }
   ],
   "source": [
    "# Basic operations on our_array\n",
    "our_array * 2"
   ]
  },
  {
   "cell_type": "code",
   "execution_count": 76,
   "id": "b7883e9f",
   "metadata": {},
   "outputs": [
    {
     "name": "stdout",
     "output_type": "stream",
     "text": [
      "Product of the arrays:  [ 1  4  9 16 25]\n",
      "Sum of the arrays:  [ 2  4  6  8 10]\n"
     ]
    }
   ],
   "source": [
    "# numpy arrays use element by element operations by default\n",
    "print(\"Product of the arrays: \", our_array * our_array)\n",
    "print(\"Sum of the arrays: \", our_array + our_array)"
   ]
  },
  {
   "cell_type": "code",
   "execution_count": 79,
   "id": "01f466f5",
   "metadata": {},
   "outputs": [
    {
     "ename": "ValueError",
     "evalue": "operands could not be broadcast together with shapes (5,) (6,) ",
     "output_type": "error",
     "traceback": [
      "\u001b[0;31m---------------------------------------------------------------------------\u001b[0m",
      "\u001b[0;31mValueError\u001b[0m                                Traceback (most recent call last)",
      "Cell \u001b[0;32mIn[79], line 2\u001b[0m\n\u001b[1;32m      1\u001b[0m our_other_array \u001b[38;5;241m=\u001b[39m np\u001b[38;5;241m.\u001b[39marray([\u001b[38;5;241m6\u001b[39m, \u001b[38;5;241m7\u001b[39m, \u001b[38;5;241m8\u001b[39m, \u001b[38;5;241m9\u001b[39m, \u001b[38;5;241m10\u001b[39m, \u001b[38;5;241m11\u001b[39m])\n\u001b[0;32m----> 2\u001b[0m our_array \u001b[38;5;241m*\u001b[39m our_other_array\n",
      "\u001b[0;31mValueError\u001b[0m: operands could not be broadcast together with shapes (5,) (6,) "
     ]
    }
   ],
   "source": [
    "our_other_array = np.array([6, 7, 8, 9, 10, 11])\n",
    "our_array * our_other_array  # This will give an error because the\n",
    "# shapes are different (a \"broadcasting\" error, which means the arrays\n",
    "#don't conform\")"
   ]
  },
  {
   "cell_type": "code",
   "execution_count": 80,
   "id": "020e94e4",
   "metadata": {},
   "outputs": [
    {
     "data": {
      "text/plain": [
       "55"
      ]
     },
     "execution_count": 80,
     "metadata": {},
     "output_type": "execute_result"
    }
   ],
   "source": [
    "# Numpy has functions for vectorized operations\n",
    "# We can do the vector product of our_array with itself as\n",
    "np.dot(our_array, our_array)  # Dot product"
   ]
  },
  {
   "cell_type": "code",
   "execution_count": 55,
   "id": "d5d3da1b",
   "metadata": {},
   "outputs": [
    {
     "name": "stdout",
     "output_type": "stream",
     "text": [
      "What is the shape of d3_array?  (2, 2, 3)\n",
      "[[[ 1  2  3]\n",
      "  [ 4  5  6]]\n",
      "\n",
      " [[ 7  8  9]\n",
      "  [10 11 12]]]\n"
     ]
    }
   ],
   "source": [
    "# N-dimensional arrays are possible\n",
    "# e.g., 3 dims\n",
    "d3_array = np.array([[[ 1, 2, 3],\n",
    "                       [ 4, 5, 6]],\n",
    "                      [[ 7, 8, 9],\n",
    "                       [10, 11, 12]]])\n",
    "print(\"What is the shape of d3_array? \", d3_array.shape)\n",
    "print(d3_array)"
   ]
  },
  {
   "cell_type": "code",
   "execution_count": 82,
   "id": "95f6834c",
   "metadata": {},
   "outputs": [
    {
     "data": {
      "text/plain": [
       "array([[ 7,  8,  9],\n",
       "       [10, 11, 12]])"
      ]
     },
     "execution_count": 82,
     "metadata": {},
     "output_type": "execute_result"
    }
   ],
   "source": [
    "# Array \"slicing\"\n",
    "# slice arrays with the \":\"\n",
    "d3_array[1, :, :]"
   ]
  },
  {
   "cell_type": "code",
   "execution_count": null,
   "id": "4b175fdc",
   "metadata": {},
   "outputs": [
    {
     "data": {
      "text/plain": [
       "array([[7, 8, 9]])"
      ]
     },
     "execution_count": 81,
     "metadata": {},
     "output_type": "execute_result"
    }
   ],
   "source": [
    "# Array \"slicing\"\n",
    "# a number before the colon means start at that element\n",
    "# a number after the colon means end at that element (not including that element)\n",
    "d3_array[1, 0:1, :]  # here we are selecting the first \"slice\" of the second dimension"
   ]
  },
  {
   "cell_type": "code",
   "execution_count": null,
   "id": "67c805cc",
   "metadata": {},
   "outputs": [],
   "source": []
  }
 ],
 "metadata": {
  "kernelspec": {
   "display_name": "base",
   "language": "python",
   "name": "python3"
  },
  "language_info": {
   "codemirror_mode": {
    "name": "ipython",
    "version": 3
   },
   "file_extension": ".py",
   "mimetype": "text/x-python",
   "name": "python",
   "nbconvert_exporter": "python",
   "pygments_lexer": "ipython3",
   "version": "3.11.5"
  }
 },
 "nbformat": 4,
 "nbformat_minor": 5
}
